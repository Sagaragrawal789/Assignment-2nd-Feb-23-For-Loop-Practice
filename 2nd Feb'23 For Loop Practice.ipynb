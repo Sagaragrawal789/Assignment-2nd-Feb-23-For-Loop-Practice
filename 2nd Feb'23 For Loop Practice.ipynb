{
 "cells": [
  {
   "cell_type": "markdown",
   "id": "1534f124-ceb7-4a2c-8463-b8910835d317",
   "metadata": {},
   "source": [
    "Q1. Explain with an example each when to use a for loop and a while loop."
   ]
  },
  {
   "cell_type": "markdown",
   "id": "ff538df5-7061-4ade-8a71-55c731801fa0",
   "metadata": {},
   "source": [
    "for loop- are usad to iterate all the sequence."
   ]
  },
  {
   "cell_type": "code",
   "execution_count": 1,
   "id": "9b8d4410-c49d-4f64-b94a-d82e2f1e683f",
   "metadata": {},
   "outputs": [
    {
     "name": "stdout",
     "output_type": "stream",
     "text": [
      "2\n",
      "6\n",
      "4\n",
      "sagar\n"
     ]
    }
   ],
   "source": [
    "l= [\"sagar\", 4, 6, 2]\n",
    "\n",
    "for i in list(range(len(l)-1,-1,-1)):\n",
    "    print(l[i])"
   ]
  },
  {
   "cell_type": "markdown",
   "id": "23a87ea3-3300-46a3-8b3a-1bf77e6f8d13",
   "metadata": {},
   "source": [
    "while loop- are usad to check the condition untill it is fullfilled."
   ]
  },
  {
   "cell_type": "code",
   "execution_count": 51,
   "id": "ef9f2fe8-01d3-49b5-be0e-81d3e6805585",
   "metadata": {},
   "outputs": [
    {
     "name": "stdout",
     "output_type": "stream",
     "text": [
      "1\n",
      "2\n",
      "3\n",
      "4\n",
      "5\n"
     ]
    }
   ],
   "source": [
    "i = 1\n",
    "while i < 7:\n",
    "    print(i)\n",
    "    if i == 5:\n",
    "        break\n",
    "    i += 1"
   ]
  },
  {
   "cell_type": "markdown",
   "id": "a8f0f666-8d0a-4913-abe2-1059d6545500",
   "metadata": {},
   "source": [
    "Q2. Write a python program to print the sum and product of the first 10 natural numbers using for and while loop."
   ]
  },
  {
   "cell_type": "markdown",
   "id": "0df6a167-4fdc-49ee-85df-03685340b682",
   "metadata": {},
   "source": [
    "for loop (SUM)-"
   ]
  },
  {
   "cell_type": "code",
   "execution_count": 52,
   "id": "f1f64da2-5706-4aba-b54f-b9eeb7b7bbe6",
   "metadata": {},
   "outputs": [
    {
     "name": "stdout",
     "output_type": "stream",
     "text": [
      "SUM 55\n"
     ]
    }
   ],
   "source": [
    "N= 10\n",
    "for i in range(0,N):\n",
    "    N= N+i\n",
    "print (\"SUM\", N)"
   ]
  },
  {
   "cell_type": "markdown",
   "id": "6c9554c1-1370-4cab-9385-d36b373e9770",
   "metadata": {
    "tags": []
   },
   "source": [
    "for loop (Product)"
   ]
  },
  {
   "cell_type": "code",
   "execution_count": 53,
   "id": "0f8313f4-8377-4706-9c2c-dc6b536d1863",
   "metadata": {},
   "outputs": [
    {
     "name": "stdout",
     "output_type": "stream",
     "text": [
      "product 3628800\n"
     ]
    }
   ],
   "source": [
    "N= 10\n",
    "for i in range(1,N):\n",
    "    N= N*i\n",
    "print (\"product\", N)"
   ]
  },
  {
   "cell_type": "markdown",
   "id": "1a1eaf54-3ec7-4f42-9f50-b2f408b30def",
   "metadata": {},
   "source": [
    "while loop (SUM)-"
   ]
  },
  {
   "cell_type": "code",
   "execution_count": 31,
   "id": "9924b988-bb4e-44c3-8448-48cc019f239a",
   "metadata": {},
   "outputs": [
    {
     "name": "stdout",
     "output_type": "stream",
     "text": [
      "sum : 55\n"
     ]
    }
   ],
   "source": [
    "N = 0\n",
    "i = 1\n",
    "while i <= 10:\n",
    "    N += i\n",
    "    i += 1\n",
    "print(\"sum :\", N)\n"
   ]
  },
  {
   "cell_type": "code",
   "execution_count": 38,
   "id": "02f6e4e3-a878-40fd-8fdd-da37bf32fdfe",
   "metadata": {},
   "outputs": [
    {
     "name": "stdout",
     "output_type": "stream",
     "text": [
      "product 3628800\n"
     ]
    }
   ],
   "source": [
    "N = 1\n",
    "i = 1\n",
    "while i <= 10:\n",
    "    N= N*i\n",
    "    i+= 1\n",
    "print (\"product\", N)"
   ]
  },
  {
   "cell_type": "markdown",
   "id": "a8480c41-f4b3-456e-90c2-fc11f7dce081",
   "metadata": {},
   "source": [
    "Q3. Create a python program to compute the electricity bill for a household.\n",
    "\n",
    "A- The per-unit charge in rupee are as follows: \n",
    "B- For the first 100 units, the user will be charged Rs. 4.5 per\n",
    "   unit, \n",
    "C- for the next 100 units, the user will be charged Rs. 6 per unit, and for the next 100 units, the user will\n",
    "   be charged Rs. 10 per unit, \n",
    "D- After 300 units and above the user will be charged Rs. 20 per unit.\n",
    "   You are required to take the units of electricity consumed in a month from the user as input.\n",
    "   Your program must pass this test case: when the unit of electricity consumed by the user in a month is\n",
    "   310, the total electricity bill should be 2250."
   ]
  },
  {
   "cell_type": "code",
   "execution_count": 54,
   "id": "072bcb81-0088-4d3c-a7b0-cb2c5cea62f6",
   "metadata": {
    "tags": []
   },
   "outputs": [
    {
     "name": "stdin",
     "output_type": "stream",
     "text": [
      "Enter the unit 310\n"
     ]
    },
    {
     "name": "stdout",
     "output_type": "stream",
     "text": [
      "Electricity Bill = 2250.0\n"
     ]
    }
   ],
   "source": [
    "unit= int(input(\"Enter the unit\"))\n",
    "\n",
    "if (unit >= 0 and unit <= 100):\n",
    "    Total = unit * 4.5\n",
    "        \n",
    "elif (unit > 100 and unit <= 200):\n",
    "    Total = ((100 * 4.5) + (unit-100) * 6)\n",
    "\n",
    "elif (unit > 200 and unit <= 300):\n",
    "    Total= ((100 * 4.5) + ( 100* 6) + ((unit-200) * 10))\n",
    "    \n",
    "else:\n",
    "    Total= ((100 * 4.5) + ( 100* 6) + (100 * 10) + ((unit - 300) * 20))\n",
    "\n",
    "print(\"Electricity Bill =\",  Total)"
   ]
  },
  {
   "cell_type": "markdown",
   "id": "2a8d081d-d428-4284-92ed-bda4b6e693f2",
   "metadata": {},
   "source": [
    "Q4. Create a list of number from 1 to 100. \n",
    "\n",
    "A- Use for loop and while loop to calculate the cube of each number \n",
    "B- and if the cube of that number is divisible by 4 or 5 then append that number in a list and print that list."
   ]
  },
  {
   "cell_type": "code",
   "execution_count": 57,
   "id": "979b4582-be77-4761-b9c2-1f40ce8a8723",
   "metadata": {},
   "outputs": [
    {
     "name": "stdout",
     "output_type": "stream",
     "text": [
      "[1, 2, 3, 4, 5, 6, 7, 8, 9, 10, 11, 12, 13, 14, 15, 16, 17, 18, 19, 20, 21, 22, 23, 24, 25, 26, 27, 28, 29, 30, 31, 32, 33, 34, 35, 36, 37, 38, 39, 40, 41, 42, 43, 44, 45, 46, 47, 48, 49, 50, 51, 52, 53, 54, 55, 56, 57, 58, 59, 60, 61, 62, 63, 64, 65, 66, 67, 68, 69, 70, 71, 72, 73, 74, 75, 76, 77, 78, 79, 80, 81, 82, 83, 84, 85, 86, 87, 88, 89, 90, 91, 92, 93, 94, 95, 96, 97, 98, 99, 100]\n"
     ]
    }
   ],
   "source": [
    "l= list(range(1,101))\n",
    "\n",
    "print(l)"
   ]
  },
  {
   "cell_type": "code",
   "execution_count": 61,
   "id": "eb34f434-8b8e-464d-a2c7-8f9d85c157d1",
   "metadata": {},
   "outputs": [
    {
     "name": "stdout",
     "output_type": "stream",
     "text": [
      "[1, 8, 27, 64, 125, 216, 343, 512, 729, 1000, 1331, 1728, 2197, 2744, 3375, 4096, 4913, 5832, 6859, 8000, 9261, 10648, 12167, 13824, 15625, 17576, 19683, 21952, 24389, 27000, 29791, 32768, 35937, 39304, 42875, 46656, 50653, 54872, 59319, 64000, 68921, 74088, 79507, 85184, 91125, 97336, 103823, 110592, 117649, 125000, 132651, 140608, 148877, 157464, 166375, 175616, 185193, 195112, 205379, 216000, 226981, 238328, 250047, 262144, 274625, 287496, 300763, 314432, 328509, 343000, 357911, 373248, 389017, 405224, 421875, 438976, 456533, 474552, 493039, 512000, 531441, 551368, 571787, 592704, 614125, 636056, 658503, 681472, 704969, 729000, 753571, 778688, 804357, 830584, 857375, 884736, 912673, 941192, 970299, 1000000]\n"
     ]
    }
   ],
   "source": [
    "### A- Use for loop to calculate the cube of each number \n",
    "\n",
    "l= list(range(1,101))\n",
    "cube = []\n",
    "for i in l:\n",
    "    cube.append(i*i*i)\n",
    "print(cube)\n",
    "    "
   ]
  },
  {
   "cell_type": "code",
   "execution_count": 3,
   "id": "79db515a-121e-4ed3-8ea7-e71af1fda0f0",
   "metadata": {},
   "outputs": [
    {
     "name": "stdout",
     "output_type": "stream",
     "text": [
      "[1, 8, 27, 64, 125, 216, 343, 512, 729, 1000, 1331, 1728, 2197, 2744, 3375, 4096, 4913, 5832, 6859, 8000, 9261, 10648, 12167, 13824, 15625, 17576, 19683, 21952, 24389, 27000, 29791, 32768, 35937, 39304, 42875, 46656, 50653, 54872, 59319, 64000, 68921, 74088, 79507, 85184, 91125, 97336, 103823, 110592, 117649, 125000, 132651, 140608, 148877, 157464, 166375, 175616, 185193, 195112, 205379, 216000, 226981, 238328, 250047, 262144, 274625, 287496, 300763, 314432, 328509, 343000, 357911, 373248, 389017, 405224, 421875, 438976, 456533, 474552, 493039, 512000, 531441, 551368, 571787, 592704, 614125, 636056, 658503, 681472, 704969, 729000, 753571, 778688, 804357, 830584, 857375, 884736, 912673, 941192, 970299, 1000000]\n"
     ]
    }
   ],
   "source": [
    "cube = []\n",
    "i = 1\n",
    "while i <= 100:\n",
    "    b = i**3\n",
    "    cube.append(b)\n",
    "    i += 1\n",
    "print(cube)"
   ]
  },
  {
   "cell_type": "code",
   "execution_count": 40,
   "id": "2a3e04dd-d8f2-47b6-b919-102ae7860f62",
   "metadata": {},
   "outputs": [
    {
     "name": "stdout",
     "output_type": "stream",
     "text": [
      "[8, 64, 125, 216, 512, 1000, 1728, 2744, 3375, 4096, 5832, 8000, 10648, 13824, 15625, 17576, 21952, 27000, 32768, 39304, 42875, 46656, 54872, 64000, 74088, 85184, 91125, 97336, 110592, 125000, 140608, 157464, 166375, 175616, 195112, 216000, 238328, 262144, 274625, 287496, 314432, 343000, 373248, 405224, 421875, 438976, 474552, 512000, 551368, 592704, 614125, 636056, 681472, 729000, 778688, 830584, 857375, 884736, 941192, 1000000]\n"
     ]
    }
   ],
   "source": [
    "l = list(range(1,101))\n",
    "cube = []\n",
    "for i in l:\n",
    "    if (i*i*i) % 4 == 0 or (i*i*i) % 5 == 0:\n",
    "         cube.append(i*i*i)\n",
    "print(cube)"
   ]
  },
  {
   "cell_type": "code",
   "execution_count": 2,
   "id": "10a62fa7-c2ea-4ac7-a98e-1c023763bca4",
   "metadata": {},
   "outputs": [
    {
     "name": "stdout",
     "output_type": "stream",
     "text": [
      "[8, 64, 125, 216, 512, 1000, 1728, 2744, 3375, 4096, 5832, 8000, 10648, 13824, 15625, 17576, 21952, 27000, 32768, 39304, 42875, 46656, 54872, 64000, 74088, 85184, 91125, 97336, 110592, 125000, 140608, 157464, 166375, 175616, 195112, 216000, 238328, 262144, 274625, 287496, 314432, 343000, 373248, 405224, 421875, 438976, 474552, 512000, 551368, 592704, 614125, 636056, 681472, 729000, 778688, 830584, 857375, 884736, 941192, 1000000]\n"
     ]
    }
   ],
   "source": [
    "cube = []\n",
    "i = 1\n",
    "while i <= 100:\n",
    "    x = i*i*i\n",
    "    if x % 4 == 0 or x % 5 == 0:\n",
    "        cube.append(x)\n",
    "    i += 1\n",
    "print(cube)"
   ]
  },
  {
   "cell_type": "code",
   "execution_count": 44,
   "id": "6545962a-4a1f-4c40-93ae-759f0d67d2ca",
   "metadata": {},
   "outputs": [
    {
     "name": "stdout",
     "output_type": "stream",
     "text": [
      "[8, 64, 125, 216, 512, 1000, 1728, 2744, 3375, 4096, 5832, 8000, 10648, 13824, 15625, 17576, 21952, 27000, 32768, 39304, 42875, 46656, 54872, 64000, 74088, 85184, 91125, 97336, 110592, 125000, 140608, 157464, 166375, 175616, 195112, 216000, 238328, 262144, 274625, 287496, 314432, 343000, 373248, 405224, 421875, 438976, 474552, 512000, 551368, 592704, 614125, 636056, 681472, 729000, 778688, 830584, 857375, 884736, 941192, 1000000]\n"
     ]
    }
   ],
   "source": [
    "l= [i**3 for i in range(1,101) if (i**3) % 4 == 0 or (i**3) % 5 ==0]\n",
    "\n",
    "print (l)"
   ]
  },
  {
   "cell_type": "markdown",
   "id": "9758bd62-72c1-446e-bbfe-bca236977c5a",
   "metadata": {},
   "source": [
    "Q5. Write a program to filter count vowels in the below-given string.\n",
    "\n",
    "string = \"I want to become a data scientist\""
   ]
  },
  {
   "cell_type": "code",
   "execution_count": 4,
   "id": "4e78bece-37dd-48d3-925c-11975abe6734",
   "metadata": {},
   "outputs": [
    {
     "name": "stdout",
     "output_type": "stream",
     "text": [
      "12\n"
     ]
    }
   ],
   "source": [
    "string = \"I want to become a data scientist\"\n",
    "vowels = \"aeiouAEIOU\"\n",
    "count = 0\n",
    "\n",
    "for i in string:\n",
    "    if i in vowels:\n",
    "        count += 1\n",
    "print(count)"
   ]
  },
  {
   "cell_type": "code",
   "execution_count": null,
   "id": "b0d6077a-9dca-4e97-9999-97d9611b868f",
   "metadata": {},
   "outputs": [],
   "source": []
  }
 ],
 "metadata": {
  "kernelspec": {
   "display_name": "Python 3 (ipykernel)",
   "language": "python",
   "name": "python3"
  },
  "language_info": {
   "codemirror_mode": {
    "name": "ipython",
    "version": 3
   },
   "file_extension": ".py",
   "mimetype": "text/x-python",
   "name": "python",
   "nbconvert_exporter": "python",
   "pygments_lexer": "ipython3",
   "version": "3.10.8"
  }
 },
 "nbformat": 4,
 "nbformat_minor": 5
}
